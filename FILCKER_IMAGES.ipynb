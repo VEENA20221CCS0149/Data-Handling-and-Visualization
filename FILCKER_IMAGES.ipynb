{
  "nbformat": 4,
  "nbformat_minor": 0,
  "metadata": {
    "colab": {
      "provenance": [],
      "include_colab_link": true
    },
    "kernelspec": {
      "name": "python3",
      "display_name": "Python 3"
    },
    "language_info": {
      "name": "python"
    }
  },
  "cells": [
    {
      "cell_type": "markdown",
      "metadata": {
        "id": "view-in-github",
        "colab_type": "text"
      },
      "source": [
        "<a href=\"https://colab.research.google.com/github/VEENA20221CCS0149/Data-Handling-and-Visualization/blob/main/FILCKER_IMAGES.ipynb\" target=\"_parent\"><img src=\"https://colab.research.google.com/assets/colab-badge.svg\" alt=\"Open In Colab\"/></a>"
      ]
    },
    {
      "cell_type": "code",
      "execution_count": null,
      "metadata": {
        "id": "yF1DqCnPo7Me"
      },
      "outputs": [],
      "source": [
        "import pandas as pd\n",
        "import numpy as np\n",
        "from functools import reduce"
      ]
    },
    {
      "cell_type": "code",
      "source": [
        "#Coping the path\n",
        "df=pd.read_csv(\"/content/drive/MyDrive/BL-Flickr-Images-Book.csv\")\n"
      ],
      "metadata": {
        "id": "ilDLV5ksqN92"
      },
      "execution_count": null,
      "outputs": []
    },
    {
      "cell_type": "code",
      "source": [
        "print(df.head())"
      ],
      "metadata": {
        "colab": {
          "base_uri": "https://localhost:8080/"
        },
        "id": "QWtUnlm5umFt",
        "outputId": "1b8d11f1-3595-4edb-e601-ae3ce5cf1c10"
      },
      "execution_count": null,
      "outputs": [
        {
          "output_type": "stream",
          "name": "stdout",
          "text": [
            "   Identifier             Edition Statement      Place of Publication  \\\n",
            "0         206                           NaN                    London   \n",
            "1         216                           NaN  London; Virtue & Yorston   \n",
            "2         218                           NaN                    London   \n",
            "3         472                           NaN                    London   \n",
            "4         480  A new edition, revised, etc.                    London   \n",
            "\n",
            "  Date of Publication              Publisher  \\\n",
            "0         1879 [1878]       S. Tinsley & Co.   \n",
            "1                1868           Virtue & Co.   \n",
            "2                1869  Bradbury, Evans & Co.   \n",
            "3                1851          James Darling   \n",
            "4                1857   Wertheim & Macintosh   \n",
            "\n",
            "                                               Title     Author  \\\n",
            "0                  Walter Forbes. [A novel.] By A. A      A. A.   \n",
            "1  All for Greed. [A novel. The dedication signed...  A., A. A.   \n",
            "2  Love the Avenger. By the author of “All for Gr...  A., A. A.   \n",
            "3  Welsh Sketches, chiefly ecclesiastical, to the...  A., E. S.   \n",
            "4  [The World in which I live, and my place in it...  A., E. S.   \n",
            "\n",
            "                                   Contributors  Corporate Author  \\\n",
            "0                               FORBES, Walter.               NaN   \n",
            "1  BLAZE DE BURY, Marie Pauline Rose - Baroness               NaN   \n",
            "2  BLAZE DE BURY, Marie Pauline Rose - Baroness               NaN   \n",
            "3                   Appleyard, Ernest Silvanus.               NaN   \n",
            "4                           BROOME, John Henry.               NaN   \n",
            "\n",
            "   Corporate Contributors Former owner  Engraver Issuance type  \\\n",
            "0                     NaN          NaN       NaN   monographic   \n",
            "1                     NaN          NaN       NaN   monographic   \n",
            "2                     NaN          NaN       NaN   monographic   \n",
            "3                     NaN          NaN       NaN   monographic   \n",
            "4                     NaN          NaN       NaN   monographic   \n",
            "\n",
            "                                          Flickr URL  \\\n",
            "0  http://www.flickr.com/photos/britishlibrary/ta...   \n",
            "1  http://www.flickr.com/photos/britishlibrary/ta...   \n",
            "2  http://www.flickr.com/photos/britishlibrary/ta...   \n",
            "3  http://www.flickr.com/photos/britishlibrary/ta...   \n",
            "4  http://www.flickr.com/photos/britishlibrary/ta...   \n",
            "\n",
            "                            Shelfmarks  \n",
            "0    British Library HMNTS 12641.b.30.  \n",
            "1    British Library HMNTS 12626.cc.2.  \n",
            "2    British Library HMNTS 12625.dd.1.  \n",
            "3  British Library HMNTS 10369.bbb.15.  \n",
            "4     British Library HMNTS 9007.d.28.  \n"
          ]
        }
      ]
    },
    {
      "cell_type": "code",
      "source": [
        "#drop unnecessary columns\n",
        "to_drop=[\"Edition Statement\",\"Corporate Author\"]\n",
        "df.drop(to_drop,inplace=True,axis=1)"
      ],
      "metadata": {
        "id": "HvUXSjYmqgbV"
      },
      "execution_count": null,
      "outputs": []
    },
    {
      "cell_type": "code",
      "source": [
        "df.head()"
      ],
      "metadata": {
        "id": "HDL8htSOsB7V"
      },
      "execution_count": null,
      "outputs": []
    },
    {
      "cell_type": "code",
      "source": [
        "df.shape"
      ],
      "metadata": {
        "colab": {
          "base_uri": "https://localhost:8080/"
        },
        "id": "6fXlm9t0wMTd",
        "outputId": "2c208992-ab74-4811-a6ab-1af2a60b98cd"
      },
      "execution_count": null,
      "outputs": [
        {
          "output_type": "execute_result",
          "data": {
            "text/plain": [
              "(8287, 13)"
            ]
          },
          "metadata": {},
          "execution_count": 28
        }
      ]
    },
    {
      "cell_type": "code",
      "source": [
        "#Setting Index as Identifier Column\n",
        "df.set_index(\"Identifier\",inplace=True)\n",
        "df.head()"
      ],
      "metadata": {
        "id": "tP1jbQjIwW-M"
      },
      "execution_count": null,
      "outputs": []
    },
    {
      "cell_type": "code",
      "source": [
        "for col in df.columns:\n",
        "  print(col)"
      ],
      "metadata": {
        "colab": {
          "base_uri": "https://localhost:8080/"
        },
        "id": "LWuSc6lQxhNc",
        "outputId": "10030ca6-b859-4bda-f877-69bb217cf268"
      },
      "execution_count": null,
      "outputs": [
        {
          "output_type": "stream",
          "name": "stdout",
          "text": [
            "Edition Statement\n",
            "Place of Publication\n",
            "Date of Publication\n",
            "Publisher\n",
            "Title\n",
            "Author\n",
            "Contributors\n",
            "Corporate Author\n",
            "Corporate Contributors\n",
            "Former owner\n",
            "Engraver\n",
            "Issuance type\n",
            "Flickr URL\n",
            "Shelfmarks\n"
          ]
        }
      ]
    },
    {
      "cell_type": "code",
      "source": [
        "#cleaning unwanted characters\n",
        "unwanted_characters=['[',',','-']\n",
        "def clean_dates(item):\n",
        "  dop=str(item.loc[\"Date of Publication\"])\n",
        "  if dop=='nan'or dop[0]=='[':\n",
        "    return np.NaN\n",
        "  for character in unwanted_characters:\n",
        "    if character in dop:\n",
        "        character_index=dop.find(character)\n",
        "        dop=dop[: character_index]\n",
        "  return dop\n",
        "df[\"Date of Publication\"]=df.apply(clean_dates,axis=1)\n",
        "df[\"Date of Publication\"].head(25)\n"
      ],
      "metadata": {
        "colab": {
          "base_uri": "https://localhost:8080/"
        },
        "id": "HJdm9ZOox7lD",
        "outputId": "e0c0b9a6-5ae1-4001-f381-b0b63ba4e1f4"
      },
      "execution_count": null,
      "outputs": [
        {
          "output_type": "execute_result",
          "data": {
            "text/plain": [
              "0     1879 \n",
              "1      1868\n",
              "2      1869\n",
              "3      1851\n",
              "4      1857\n",
              "5      1875\n",
              "6      1872\n",
              "7       NaN\n",
              "8      1676\n",
              "9      1679\n",
              "10     1802\n",
              "11     1859\n",
              "12     1888\n",
              "13     1839\n",
              "14     1897\n",
              "15     1865\n",
              "16     1860\n",
              "17     1873\n",
              "18     1866\n",
              "19     1899\n",
              "20     1814\n",
              "21     1820\n",
              "22     1800\n",
              "23     1847\n",
              "24      NaN\n",
              "Name: Date of Publication, dtype: object"
            ]
          },
          "metadata": {},
          "execution_count": 48
        }
      ]
    },
    {
      "cell_type": "code",
      "source": [
        "\n"
      ],
      "metadata": {
        "id": "w3S5h7XX0jKk"
      },
      "execution_count": null,
      "outputs": []
    }
  ]
}