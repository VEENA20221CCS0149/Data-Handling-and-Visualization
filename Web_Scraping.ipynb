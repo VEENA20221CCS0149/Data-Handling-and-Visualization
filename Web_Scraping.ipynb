{
  "nbformat": 4,
  "nbformat_minor": 0,
  "metadata": {
    "colab": {
      "provenance": [],
      "authorship_tag": "ABX9TyM2zzSSyYa7VuoPNPMxC+PO",
      "include_colab_link": true
    },
    "kernelspec": {
      "name": "python3",
      "display_name": "Python 3"
    },
    "language_info": {
      "name": "python"
    }
  },
  "cells": [
    {
      "cell_type": "markdown",
      "metadata": {
        "id": "view-in-github",
        "colab_type": "text"
      },
      "source": [
        "<a href=\"https://colab.research.google.com/github/VEENA20221CCS0149/Data-Handling-and-Visualization/blob/main/Web_Scraping.ipynb\" target=\"_parent\"><img src=\"https://colab.research.google.com/assets/colab-badge.svg\" alt=\"Open In Colab\"/></a>"
      ]
    },
    {
      "cell_type": "code",
      "execution_count": null,
      "metadata": {
        "id": "Y4vS5SBYHYgh"
      },
      "outputs": [],
      "source": [
        "import requests\n",
        "link=\"https://www.ted.com/speakers\"\n",
        "link_text=requests.get(link).text\n",
        "print(link_text)"
      ]
    },
    {
      "cell_type": "code",
      "source": [
        "from bs4 import BeautifulSoup\n",
        "Soup=BeautifulSoup(link_text,'lxml')\n",
        "print(Soup)"
      ],
      "metadata": {
        "id": "REplqCutIO3D"
      },
      "execution_count": null,
      "outputs": []
    },
    {
      "cell_type": "code",
      "source": [
        "print(Soup.prettify())"
      ],
      "metadata": {
        "id": "p6OVCW0VIhor"
      },
      "execution_count": null,
      "outputs": []
    },
    {
      "cell_type": "code",
      "source": [
        "print(Soup.title)"
      ],
      "metadata": {
        "colab": {
          "base_uri": "https://localhost:8080/"
        },
        "id": "QCNULK-YIq4r",
        "outputId": "9af1991d-5231-4605-e58c-a4316b235af6"
      },
      "execution_count": 4,
      "outputs": [
        {
          "output_type": "stream",
          "name": "stdout",
          "text": [
            "<title>TED Speakers | TED</title>\n"
          ]
        }
      ]
    },
    {
      "cell_type": "code",
      "source": [
        "print(Soup.title.string)"
      ],
      "metadata": {
        "colab": {
          "base_uri": "https://localhost:8080/"
        },
        "id": "eRkXGbQ8IxkC",
        "outputId": "c36f478c-e4d8-475a-bf90-981c2707e80f"
      },
      "execution_count": 5,
      "outputs": [
        {
          "output_type": "stream",
          "name": "stdout",
          "text": [
            "TED Speakers | TED\n"
          ]
        }
      ]
    },
    {
      "cell_type": "code",
      "source": [
        "Soup.a"
      ],
      "metadata": {
        "colab": {
          "base_uri": "https://localhost:8080/"
        },
        "id": "72hJDs9KI7yz",
        "outputId": "ceb62986-8d8a-4132-cdef-69b9331f9c0b"
      },
      "execution_count": 6,
      "outputs": [
        {
          "output_type": "execute_result",
          "data": {
            "text/plain": [
              "<a href=\"https://enable-javascript.com/\">Here's how</a>"
            ]
          },
          "metadata": {},
          "execution_count": 6
        }
      ]
    },
    {
      "cell_type": "code",
      "source": [
        "Soup.find_all('a')"
      ],
      "metadata": {
        "id": "ZoeGUQyeJBHL"
      },
      "execution_count": null,
      "outputs": []
    },
    {
      "cell_type": "code",
      "source": [
        "all_table=Soup.find_all(\"table\")\n",
        "print(all_table)"
      ],
      "metadata": {
        "colab": {
          "base_uri": "https://localhost:8080/"
        },
        "id": "qpPHZpYuJIir",
        "outputId": "7bb884e0-31b7-45a7-b40e-b057b2ba27ee"
      },
      "execution_count": 9,
      "outputs": [
        {
          "output_type": "stream",
          "name": "stdout",
          "text": [
            "[]\n"
          ]
        }
      ]
    }
  ]
}